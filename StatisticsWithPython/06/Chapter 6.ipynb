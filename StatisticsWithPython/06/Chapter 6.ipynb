{
 "cells": [
  {
   "attachments": {
    "image-3.png": {
     "image/png": "[encoded data removed]"
    }
   },
   "cell_type": "markdown",
   "metadata": {},
   "source": [
    "# Chapter 6. 일반선형모델\n",
    "\n",
    "## 6.1 여러 가지 확률분포\n",
    "\n",
    "- 일반선형모델의 장점을 활용하기 위해 확률 분포를 배워야 할 필요 있음\n",
    "\n",
    "- 가볍게 읽어나가면서 실습 단계를 **\"적당히\"** 읽어두는 방식으로 학습하면 됨\n",
    "\n",
    "\n",
    "### 6.1.1 용어 설명\n",
    "\n",
    "- **이항확률변수**: 2개의 값만 가지는 확률 변수 (ex: 있다&없다, 앞&뒤)\n",
    "\n",
    "- **베르누이 시행**: 2종류의 결좌 중 하나만 발생시키는 시행 (ex: 동전 던져서 기록)\n",
    "\n",
    "- **성공확률**: 2종류의 결과 중 어느 한쪽의 결과를 얻을 확률 (범위 : [0,1])\n",
    "\n",
    "- **베르누이 분포**: 한 번의 베르누이 시행이 일어날 때 이항확률변수가 따르는 확률분포\n",
    "\n",
    "\n",
    "### 6.1.2 이항분포\n",
    "\n",
    "- **이항분포**: 성공확률이 *p*면서 *N*회의 독립 베르누이 시행을 했을 때 성공한 횟수 *m*이 따르는 이산형 확률분포\n",
    "\n",
    "- 파라미터는 성공확률 *p*와 시행횟수 *N*\n",
    "\n",
    "- 확률변수 *m*의 기댓값은 *Np*, 분산은 *Np(1-p)*\n",
    "\n",
    "\n",
    "### 6.1.3 이항분포 사용법\n",
    "\n",
    "- 성공확률 *p*가 어떻게 변화하는가라는 시점으로 이항분포가 이용되는 경우가 많음\n",
    "\n",
    "\n",
    "### 6.1.4 이항분포의 확률질량함수\n",
    "\n",
    "- *p*: 성공확률, *N*: 시행횟수, *m*: 성공횟수\n",
    "![image-3.png](attachment:image-3.png)\n",
    "\n",
    "\n",
    "### 6.1.5 분석 준비"
   ]
  },
  {
   "cell_type": "code",
   "execution_count": 1,
   "metadata": {},
   "outputs": [],
   "source": [
    "import numpy as np\n",
    "import pandas as pd\n",
    "import scipy as sp\n",
    "from scipy import stats\n",
    "from matplotlib import pyplot as plt\n",
    "import seaborn as sns\n",
    "sns.set()\n",
    "%precision 3\n",
    "%matplotlib inline"
   ]
  },
  {
   "cell_type": "markdown",
   "metadata": {},
   "source": [
    "### 6.1.6 이항분포(실습)\n",
    "\n",
    "- 앞이 나올 확률이 0.5인 동전을 2번 던져서 그중 1번 앞면일 확률을 계산"
   ]
  },
  {
   "cell_type": "code",
   "execution_count": 2,
   "metadata": {},
   "outputs": [
    {
     "data": {
      "text/plain": [
       "0.5"
      ]
     },
     "execution_count": 2,
     "metadata": {},
     "output_type": "execute_result"
    }
   ],
   "source": [
    "sp.stats.binom.pmf(k = 1, n = 2, p = 0.5)"
   ]
  },
  {
   "cell_type": "markdown",
   "metadata": {},
   "source": [
    "- 앞이 나올 확률이 0.2인 동전을 10번 던져서 앞이 나온 수를 세는 시행 5번 반복"
   ]
  },
  {
   "cell_type": "code",
   "execution_count": 3,
   "metadata": {},
   "outputs": [
    {
     "data": {
      "text/plain": [
       "array([2, 3, 0, 1, 1])"
      ]
     },
     "execution_count": 3,
     "metadata": {},
     "output_type": "execute_result"
    }
   ],
   "source": [
    "np.random.seed(1)\n",
    "sp.stats.binom.rvs(n = 10, p = 0.2, size = 5)"
   ]
  },
  {
   "cell_type": "markdown",
   "metadata": {},
   "source": [
    "- 난수의 히스토그램과 이항분포의 확률질량함수에서 계산된 확률을 겹쳐서 그래프로 그리기"
   ]
  },
  {
   "cell_type": "code",
   "execution_count": 4,
   "metadata": {},
   "outputs": [
    {
     "name": "stderr",
     "output_type": "stream",
     "text": [
      "C:\\Users\\bok_suh\\anaconda3\\lib\\site-packages\\seaborn\\distributions.py:2551: FutureWarning: `distplot` is a deprecated function and will be removed in a future version. Please adapt your code to use either `displot` (a figure-level function with similar flexibility) or `histplot` (an axes-level function for histograms).\n",
      "  warnings.warn(msg, FutureWarning)\n"
     ]
    },
    {
     "data": {
      "text/plain": [
       "[<matplotlib.lines.Line2D at 0x20af699b400>]"
      ]
     },
     "execution_count": 4,
     "metadata": {},
     "output_type": "execute_result"
    },
    {
     "data": {
      "image/png": "[encoded data removed]",
      "text/plain": [
       "<Figure size 432x288 with 1 Axes>"
      ]
     },
     "metadata": {
      "needs_background": "light"
     },
     "output_type": "display_data"
    }
   ],
   "source": [
    "binomial = sp.stats.binom(n = 10, p = 0.2)\n",
    "np.random.seed(1)\n",
    "rvs_binomial = binomial.rvs(size = 10000)\n",
    "m = np.arange(0, 10, 1)\n",
    "pmf_binomial = binomial.pmf(k = m)\n",
    "sns.distplot(rvs_binomial, bins = m, kde = False, norm_hist = True, color = 'gray')\n",
    "plt.plot(m, pmf_binomial, color = 'black')"
   ]
  },
  {
   "attachments": {
    "image.png": {
     "image/png": "[encoded data removed]"
    }
   },
   "cell_type": "markdown",
   "metadata": {},
   "source": [
    "### 6.1.7 푸이송 분포\n",
    "\n",
    "- **푸이송 분포**: 1개 또는 2개, 1회 또는 2회 등의 **카운트 데이터**가 따르는 이산형 확률분포\n",
    "\n",
    "- 카운트 데이터는 \"0\" 이상의 정수\n",
    "\n",
    "- 파라미터는 *λ*\n",
    "\n",
    "\n",
    "### 6.1.8 푸아송 분포의 사용\n",
    "\n",
    "- 낚싯대를 바꾸면 잡아 올리는 물고기 수가 달라지는지?\n",
    "\n",
    "- 주변 환경에 따라 조사 구획내의 생물의 개체수가 변하는지?\n",
    "\n",
    "- 등등을 알아볼 때 사용\n",
    "\n",
    "\n",
    "### 6.1.9 푸아송 분포의 확률질량함수\n",
    "\n",
    "- *x*: 카운트 데이터, *λ*: 푸아송 분포의 강도\n",
    "\n",
    "![image.png](attachment:image.png)\n",
    "\n",
    "\n",
    "### 6.1.10 이항분포와 푸아송 분포의 관계\n",
    "\n",
    "- 푸아송 분포는 이항분포에서 도출 가능 (도출 식은 문헌 참고)\n",
    "\n",
    "- 푸아송 분포는 *p* --> 0, *N* --> ∞ 라는 조건에서 이항분포가 *Np = λ*인 결과\n",
    "\n",
    "\n",
    "### 6.1.11 푸아송 분포(실습)"
   ]
  },
  {
   "cell_type": "code",
   "execution_count": 5,
   "metadata": {},
   "outputs": [
    {
     "data": {
      "text/plain": [
       "0.08422433748856832"
      ]
     },
     "execution_count": 5,
     "metadata": {},
     "output_type": "execute_result"
    }
   ],
   "source": [
    "sp.stats.poisson.pmf(k = 2, mu = 5)"
   ]
  },
  {
   "cell_type": "code",
   "execution_count": 6,
   "metadata": {},
   "outputs": [
    {
     "data": {
      "text/plain": [
       "array([2, 1, 0, 1, 2])"
      ]
     },
     "execution_count": 6,
     "metadata": {},
     "output_type": "execute_result"
    }
   ],
   "source": [
    "np.random.seed(1)\n",
    "sp.stats.poisson.rvs(mu = 2, size = 5)"
   ]
  },
  {
   "cell_type": "code",
   "execution_count": 7,
   "metadata": {},
   "outputs": [
    {
     "name": "stderr",
     "output_type": "stream",
     "text": [
      "C:\\Users\\bok_suh\\anaconda3\\lib\\site-packages\\seaborn\\distributions.py:2551: FutureWarning: `distplot` is a deprecated function and will be removed in a future version. Please adapt your code to use either `displot` (a figure-level function with similar flexibility) or `histplot` (an axes-level function for histograms).\n",
      "  warnings.warn(msg, FutureWarning)\n"
     ]
    },
    {
     "data": {
      "text/plain": [
       "[<matplotlib.lines.Line2D at 0x20af6cd7fa0>]"
      ]
     },
     "execution_count": 7,
     "metadata": {},
     "output_type": "execute_result"
    },
    {
     "data": {
      "image/png": "[encoded data removed]",
      "text/plain": [
       "<Figure size 432x288 with 1 Axes>"
      ]
     },
     "metadata": {
      "needs_background": "light"
     },
     "output_type": "display_data"
    }
   ],
   "source": [
    "poisson = sp.stats.poisson(mu = 2)\n",
    "np.random.seed(1)\n",
    "rvs_poisson = poisson.rvs(size = 10000)\n",
    "pmf_poisson = poisson.pmf(k = m)\n",
    "sns.distplot(rvs_poisson, bins = m, kde = False, norm_hist = True, color = 'gray')\n",
    "plt.plot(m, pmf_poisson, color = 'black')"
   ]
  },
  {
   "cell_type": "markdown",
   "metadata": {},
   "source": [
    "- 푸아송 분포와 이항분포의 관계 확인하기"
   ]
  },
  {
   "cell_type": "code",
   "execution_count": 9,
   "metadata": {},
   "outputs": [
    {
     "data": {
      "text/plain": [
       "[<matplotlib.lines.Line2D at 0x20af6d554c0>]"
      ]
     },
     "execution_count": 9,
     "metadata": {},
     "output_type": "execute_result"
    },
    {
     "data": {
      "image/png": "[encoded data removed]",
      "text/plain": [
       "<Figure size 432x288 with 1 Axes>"
      ]
     },
     "metadata": {
      "needs_background": "light"
     },
     "output_type": "display_data"
    }
   ],
   "source": [
    "N = 100000000\n",
    "p = 0.00000002\n",
    "binomial_2 = sp.stats.binom(n = N, p = p)\n",
    "pmf_binomial_2 = binomial_2.pmf(k = m)\n",
    "plt.plot(m, pmf_poisson, color = 'gray')\n",
    "plt.plot(m, pmf_binomial_2, color = 'black', linestyle = 'dotted')"
   ]
  },
  {
   "attachments": {
    "image-2.png": {
     "image/png": "[encoded data removed]"
    },
    "image-3.png": {
     "image/png": "[encoded data removed]"
    },
    "image-4.png": {
     "image/png": "[encoded data removed]"
    },
    "image-5.png": {
     "image/png": "[encoded data removed]"
    },
    "image-6.png": {
     "image/png": "[encoded data removed]"
    },
    "image-7.png": {
     "image/png": "[encoded data removed]"
    },
    "image.png": {
     "image/png": "[encoded data removed]"
    }
   },
   "cell_type": "markdown",
   "metadata": {},
   "source": [
    "### 6.1.12 그 외의 확률분포\n",
    "\n",
    "- **음이항분포**: 푸아송 분포와 마찬가지로 카운트 데이터가 따르는 확률분포, 푸아송 분포보다 분산이 큼\n",
    "\n",
    "- **감마분포**: 0 이상의 값을 취하는 연속형 확률변수가 따르는 확률분포\n",
    "\n",
    "\n",
    "### 6.1.13 지수형 분포\n",
    "\n",
    "- 모델의 추정이나 해석이 용이함\n",
    "\n",
    "\n",
    "## 6.2 일반선형모델의 기본\n",
    "\n",
    "- 일반선형모델을 이용하면 분류 문제와 회귀 문제를 통일성 있게 취급할 수 있음\n",
    "\n",
    "\n",
    "### 6.2.1 일반선형모델의 구성요소\n",
    "\n",
    "1. 모집단이 따르는 확률분포\n",
    "2. 선형예측자\n",
    "3. 링크함수\n",
    "\n",
    "\n",
    "### 6.2.2 확률분포\n",
    "- 일반선형모델은 정규분포나 이항분포, 푸아송 분포 등에 적용가능\n",
    "\n",
    "\n",
    "### 6.2.3 선형예측자\n",
    "- 독립변수를 선형의 관계식으로 표현한 것\n",
    "\n",
    "\n",
    "### 6.2.4 링크함수\n",
    "- 종속변수와 선형예측자를 서로 대응시키기 위해 사용\n",
    "\n",
    "\n",
    "### 6.2.5 링크함수와 확률분포의 대응\n",
    "![image.png](attachment:image.png)\n",
    "- **항등함수**: *f(x) = x*가 되는 함수\n",
    "\n",
    "\n",
    "### 6.2.6 일반선형모델의 파라미터 추정\n",
    "- 최대우도법에 의한 파라미터 추정\n",
    "- 파라미터 추정을 위한 알고리즘으로 반복적인 최소제곱법이 이용\n",
    "\n",
    "\n",
    "### 6.2.7 일반선형모델을 이용한 검정 방법\n",
    "- **Wald 검정**: 샘플사이즈가 클 때 추정값이 정규분포를 따르는 것을 이용한 검정 방법\n",
    "- **우도비 검정**: 모델의 적합도를 비교하는 방법\n",
    "\n",
    "\n",
    "## 6.3 로지스틱 회귀\n",
    "- 확률분포에 이항분포를 사용하고, 링크함수에 로짓함수를 사용한 일반선형모델\n",
    "- 독립변수는 여러개 있어도 상관없고, 연속형과 카테고리형이 섞여 있어도 상관없음\n",
    "\n",
    "\n",
    "### 6.3.1 이 절의 예제\n",
    "- 시험에 합격, 불합격하는 것을 예측한다 생각\n",
    "- 선형예측자는?\n",
    "![image-2.png](attachment:image-2.png)\n",
    "\n",
    "\n",
    "### 6.3.2 두 값 판별 문제\n",
    "- 시험 합격률을 공부시간으로 설명하는 수리모델 생각해보자\n",
    "![image-3.png](attachment:image-3.png)\n",
    "- 문제: 합격률이 마이너스값이나 1을 넘는 값이 될 가능성 존재 --> 링크함수로 로짓함수를 적용하면 해결\n",
    "\n",
    "\n",
    "### 6.3.3 로짓함수\n",
    "![image-4.png](attachment:image-4.png)\n",
    "\n",
    "\n",
    "### 6.3.4 역함수\n",
    "- *f(a) = b*에서 *g(b) = a*가 되는 함수 *g(x)*를 *f(x)*의 역함수라고 함\n",
    "\n",
    "\n",
    "### 6.3.5 로지스틱함수\n",
    "- 로짓함수의 역함수\n",
    "![image-5.png](attachment:image-5.png)\n",
    "\n",
    "\n",
    "### 6.3.6 로지스틱함수의 특징\n",
    "- 0 미만이거나 1을 초과하지 않음\n",
    "\n",
    "\n",
    "### 6.3.7 로지스틱 회귀의 구조\n",
    "- 확률분포에 이항분포를 사용하고 링크함수에 로짓함수를 사용한 일반선형모델\n",
    "- 이런 느낌\n",
    "![image-6.png](attachment:image-6.png)\n",
    "\n",
    "\n",
    "### 6.3.8 로지스틱 회귀의 우도함수\n",
    "- 스샷으로 대체\n",
    "![image-7.png](attachment:image-7.png)\n",
    "\n",
    "\n",
    "### 6.3.9 분석 준비"
   ]
  },
  {
   "cell_type": "code",
   "execution_count": 11,
   "metadata": {},
   "outputs": [],
   "source": [
    "import numpy as np\n",
    "import pandas as pd\n",
    "import scipy as sp\n",
    "from scipy import stats\n",
    "from matplotlib import pyplot as plt\n",
    "import seaborn as sns\n",
    "sns.set()\n",
    "import statsmodels.formula.api as smf\n",
    "import statsmodels.api as sm\n",
    "%precision 3\n",
    "%matplotlib inline"
   ]
  },
  {
   "cell_type": "markdown",
   "metadata": {},
   "source": [
    "### 6.3.10 데이터 읽어 들이기와 그래프 표시\n",
    "- hours : 공부시간, result : 시험의 합격여부 (합격 = 1)"
   ]
  },
  {
   "cell_type": "code",
   "execution_count": 14,
   "metadata": {},
   "outputs": [
    {
     "name": "stdout",
     "output_type": "stream",
     "text": [
      "   hours  result\n",
      "0      0       0\n",
      "1      0       0\n",
      "2      0       0\n"
     ]
    }
   ],
   "source": [
    "test_result = pd.read_csv(\"6-3-1-logistic-regression.csv\")\n",
    "print(test_result.head(3))"
   ]
  },
  {
   "cell_type": "code",
   "execution_count": 15,
   "metadata": {},
   "outputs": [
    {
     "data": {
      "text/plain": [
       "<AxesSubplot:xlabel='hours', ylabel='result'>"
      ]
     },
     "execution_count": 15,
     "metadata": {},
     "output_type": "execute_result"
    },
    {
     "data": {
      "image/png": "[encoded data removed]",
      "text/plain": [
       "<Figure size 432x288 with 1 Axes>"
      ]
     },
     "metadata": {
      "needs_background": "light"
     },
     "output_type": "display_data"
    }
   ],
   "source": [
    "sns.barplot(x = \"hours\", y = \"result\", data = test_result, palette = 'gray_r')"
   ]
  },
  {
   "cell_type": "code",
   "execution_count": 16,
   "metadata": {},
   "outputs": [
    {
     "name": "stdout",
     "output_type": "stream",
     "text": [
      "       result\n",
      "hours        \n",
      "0         0.0\n",
      "1         0.0\n",
      "2         0.1\n",
      "3         0.1\n",
      "4         0.4\n",
      "5         0.4\n",
      "6         0.9\n",
      "7         0.8\n",
      "8         0.9\n",
      "9         1.0\n"
     ]
    }
   ],
   "source": [
    "print(test_result.groupby(\"hours\").mean())"
   ]
  },
  {
   "cell_type": "markdown",
   "metadata": {},
   "source": [
    "- 1시간 이하로 한 사람은 아무도 합격하지 못했고 9시간 공부한 사람은 전부 합격한 것을 확인\n",
    "\n",
    "\n",
    "### 6.3.11 로지스틱 회귀(실습)"
   ]
  },
  {
   "cell_type": "code",
   "execution_count": 17,
   "metadata": {},
   "outputs": [],
   "source": [
    "mod_glm = smf.glm(formula = \"result ~ hours\", data = test_result, family = sm.families.Binomial()).fit()"
   ]
  },
  {
   "cell_type": "markdown",
   "metadata": {},
   "source": [
    "### 6.3.12 로지스틱 회귀 결과의 출력"
   ]
  },
  {
   "cell_type": "code",
   "execution_count": 18,
   "metadata": {},
   "outputs": [
    {
     "data": {
      "text/html": [
       "<table class=\"simpletable\">\n",
       "<caption>Generalized Linear Model Regression Results</caption>\n",
       "<tr>\n",
       "  <th>Dep. Variable:</th>        <td>result</td>      <th>  No. Observations:  </th>  <td>   100</td> \n",
       "</tr>\n",
       "<tr>\n",
       "  <th>Model:</th>                  <td>GLM</td>       <th>  Df Residuals:      </th>  <td>    98</td> \n",
       "</tr>\n",
       "<tr>\n",
       "  <th>Model Family:</th>        <td>Binomial</td>     <th>  Df Model:          </th>  <td>     1</td> \n",
       "</tr>\n",
       "<tr>\n",
       "  <th>Link Function:</th>         <td>logit</td>      <th>  Scale:             </th> <td>  1.0000</td>\n",
       "</tr>\n",
       "<tr>\n",
       "  <th>Method:</th>                <td>IRLS</td>       <th>  Log-Likelihood:    </th> <td> -34.014</td>\n",
       "</tr>\n",
       "<tr>\n",
       "  <th>Date:</th>            <td>Fri, 12 Feb 2021</td> <th>  Deviance:          </th> <td>  68.028</td>\n",
       "</tr>\n",
       "<tr>\n",
       "  <th>Time:</th>                <td>15:35:13</td>     <th>  Pearson chi2:      </th>  <td>  84.9</td> \n",
       "</tr>\n",
       "<tr>\n",
       "  <th>No. Iterations:</th>          <td>6</td>        <th>                     </th>     <td> </td>   \n",
       "</tr>\n",
       "<tr>\n",
       "  <th>Covariance Type:</th>     <td>nonrobust</td>    <th>                     </th>     <td> </td>   \n",
       "</tr>\n",
       "</table>\n",
       "<table class=\"simpletable\">\n",
       "<tr>\n",
       "      <td></td>         <th>coef</th>     <th>std err</th>      <th>z</th>      <th>P>|z|</th>  <th>[0.025</th>    <th>0.975]</th>  \n",
       "</tr>\n",
       "<tr>\n",
       "  <th>Intercept</th> <td>   -4.5587</td> <td>    0.901</td> <td>   -5.061</td> <td> 0.000</td> <td>   -6.324</td> <td>   -2.793</td>\n",
       "</tr>\n",
       "<tr>\n",
       "  <th>hours</th>     <td>    0.9289</td> <td>    0.174</td> <td>    5.345</td> <td> 0.000</td> <td>    0.588</td> <td>    1.270</td>\n",
       "</tr>\n",
       "</table>"
      ],
      "text/plain": [
       "<class 'statsmodels.iolib.summary.Summary'>\n",
       "\"\"\"\n",
       "                 Generalized Linear Model Regression Results                  \n",
       "==============================================================================\n",
       "Dep. Variable:                 result   No. Observations:                  100\n",
       "Model:                            GLM   Df Residuals:                       98\n",
       "Model Family:                Binomial   Df Model:                            1\n",
       "Link Function:                  logit   Scale:                          1.0000\n",
       "Method:                          IRLS   Log-Likelihood:                -34.014\n",
       "Date:                Fri, 12 Feb 2021   Deviance:                       68.028\n",
       "Time:                        15:35:13   Pearson chi2:                     84.9\n",
       "No. Iterations:                     6                                         \n",
       "Covariance Type:            nonrobust                                         \n",
       "==============================================================================\n",
       "                 coef    std err          z      P>|z|      [0.025      0.975]\n",
       "------------------------------------------------------------------------------\n",
       "Intercept     -4.5587      0.901     -5.061      0.000      -6.324      -2.793\n",
       "hours          0.9289      0.174      5.345      0.000       0.588       1.270\n",
       "==============================================================================\n",
       "\"\"\""
      ]
     },
     "execution_count": 18,
     "metadata": {},
     "output_type": "execute_result"
    }
   ],
   "source": [
    "mod_glm.summary()"
   ]
  },
  {
   "cell_type": "markdown",
   "metadata": {},
   "source": [
    "- IRLS (Iterative Reweighted Least Squares) : 최소제곱법\n",
    "\n",
    "\n",
    "### 6.3.13 모델 선택\n",
    "- 우선 Null 모델 추정"
   ]
  },
  {
   "cell_type": "code",
   "execution_count": 19,
   "metadata": {},
   "outputs": [],
   "source": [
    "mod_glm_null = smf.glm(\"result ~ 1\", data = test_result, family = sm.families.Binomial()).fit()"
   ]
  },
  {
   "cell_type": "markdown",
   "metadata": {},
   "source": [
    "- AIC를 비교"
   ]
  },
  {
   "cell_type": "code",
   "execution_count": 20,
   "metadata": {},
   "outputs": [
    {
     "name": "stdout",
     "output_type": "stream",
     "text": [
      "Null 모델        :  139.989\n",
      "변수가 있는 모델 :  72.028\n"
     ]
    }
   ],
   "source": [
    "print(\"Null 모델        : \", mod_glm_null.aic.round(3))\n",
    "print(\"변수가 있는 모델 : \", mod_glm.aic.round(3))"
   ]
  },
  {
   "cell_type": "markdown",
   "metadata": {},
   "source": [
    "- 공부시간을 독립변수로 이용한 모델의 AIC가 더 작음\n",
    "- 공부시간을 늘리면 합격률이 오른다고 판단해도 괜찮을 것 같다!\n",
    "\n",
    "\n",
    "### 6.3.14 로지스틱 회귀곡선 그래프\n",
    "- 가로축: 공부시간, 세로축: 합격 여부의 이항확률변수를 지정한 산포도, 이론상의 합격률을 겹쳐보겠습니다."
   ]
  },
  {
   "cell_type": "code",
   "execution_count": 23,
   "metadata": {},
   "outputs": [
    {
     "data": {
      "text/plain": [
       "<seaborn.axisgrid.FacetGrid at 0x20af903efd0>"
      ]
     },
     "execution_count": 23,
     "metadata": {},
     "output_type": "execute_result"
    },
    {
     "data": {
      "image/png": "[encoded data removed]",
      "text/plain": [
       "<Figure size 360x360 with 1 Axes>"
      ]
     },
     "metadata": {
      "needs_background": "light"
     },
     "output_type": "display_data"
    }
   ],
   "source": [
    "sns.lmplot(x = \"hours\", y = \"result\", \n",
    "           data = test_result,\n",
    "           logistic = True, \n",
    "           scatter_kws = {\"color\": \"black\"}, \n",
    "           line_kws = {\"color\": \"black\"}, \n",
    "           x_jitter = 0.1, y_jitter = 0.02)"
   ]
  },
  {
   "cell_type": "markdown",
   "metadata": {},
   "source": [
    "### 6.3.15 성공확률 예측"
   ]
  },
  {
   "cell_type": "code",
   "execution_count": 24,
   "metadata": {},
   "outputs": [
    {
     "data": {
      "text/plain": [
       "0    0.010367\n",
       "1    0.025836\n",
       "2    0.062920\n",
       "3    0.145291\n",
       "4    0.300876\n",
       "5    0.521427\n",
       "6    0.733929\n",
       "7    0.874741\n",
       "8    0.946467\n",
       "9    0.978147\n",
       "dtype: float64"
      ]
     },
     "execution_count": 24,
     "metadata": {},
     "output_type": "execute_result"
    }
   ],
   "source": [
    "exp_val = pd.DataFrame({\n",
    "    \"hours\": np.arange(0, 10, 1)\n",
    "})\n",
    "pred = mod_glm.predict(exp_val)\n",
    "pred"
   ]
  },
  {
   "cell_type": "markdown",
   "metadata": {},
   "source": [
    "### 6.3.16 용어 설명\n",
    "- **오즈**: 실패하는 것보다 성공하는 것이 몇 배 더 쉬운가를 나타냄 ( p / (1-p) )\n",
    "- **오즈비**: 오즈 간에 비율을 취한 것\n",
    "- **로그오즈비**: 오즈비에 로그를 취한 것\n",
    "\n",
    "\n",
    "### 6.3.17 로지스틱 회귀계수와 오즈비의 관계"
   ]
  },
  {
   "cell_type": "code",
   "execution_count": 25,
   "metadata": {},
   "outputs": [],
   "source": [
    "exp_val_1 = pd.DataFrame({\"hours\": [1]})\n",
    "pred_1 = mod_glm.predict(exp_val_1)\n",
    "exp_val_2 = pd.DataFrame({\"hours\": [2]})\n",
    "pred_2 = mod_glm.predict(exp_val_2)"
   ]
  },
  {
   "cell_type": "code",
   "execution_count": 26,
   "metadata": {},
   "outputs": [
    {
     "name": "stderr",
     "output_type": "stream",
     "text": [
      "<ipython-input-26-601289041921>:3: DeprecationWarning: scipy.log is deprecated and will be removed in SciPy 2.0.0, use numpy.lib.scimath.log instead\n",
      "  sp.log(odds_2 / odds_1)\n"
     ]
    },
    {
     "data": {
      "text/plain": [
       "array([0.929])"
      ]
     },
     "execution_count": 26,
     "metadata": {},
     "output_type": "execute_result"
    }
   ],
   "source": [
    "odds_1 = pred_1 / (1 - pred_1)\n",
    "odds_2 = pred_2 / (1 - pred_2)\n",
    "sp.log(odds_2 / odds_1)"
   ]
  },
  {
   "cell_type": "code",
   "execution_count": 27,
   "metadata": {},
   "outputs": [
    {
     "data": {
      "text/plain": [
       "0.9288901756284957"
      ]
     },
     "execution_count": 27,
     "metadata": {},
     "output_type": "execute_result"
    }
   ],
   "source": [
    "mod_glm.params[\"hours\"]"
   ]
  },
  {
   "cell_type": "code",
   "execution_count": 28,
   "metadata": {},
   "outputs": [
    {
     "name": "stderr",
     "output_type": "stream",
     "text": [
      "<ipython-input-28-b5475642cd5c>:1: DeprecationWarning: scipy.exp is deprecated and will be removed in SciPy 2.0.0, use numpy.exp instead\n",
      "  sp.exp(mod_glm.params[\"hours\"])\n"
     ]
    },
    {
     "data": {
      "text/plain": [
       "2.531697877875777"
      ]
     },
     "execution_count": 28,
     "metadata": {},
     "output_type": "execute_result"
    }
   ],
   "source": [
    "sp.exp(mod_glm.params[\"hours\"])"
   ]
  },
  {
   "cell_type": "markdown",
   "metadata": {},
   "source": [
    "## 6.4 일반선형모델의 평가\n",
    "- 잔차의 체크는 필수!\n",
    "- 잔차: 데이터와 모델의 괴리를 표현하는 중요한 지표\n",
    "- 모델의 손실을 파악하는 방법도 배워 보겠움\n",
    "\n",
    "\n",
    "### 6.4.1 분석 준비"
   ]
  },
  {
   "cell_type": "code",
   "execution_count": 29,
   "metadata": {},
   "outputs": [],
   "source": [
    "import numpy as np\n",
    "import pandas as pd\n",
    "import scipy as sp\n",
    "from scipy import stats\n",
    "from matplotlib import pyplot as plt\n",
    "import seaborn as sns\n",
    "sns.set()\n",
    "import statsmodels.formula.api as smf\n",
    "import statsmodels.api as sm\n",
    "%precision 3\n",
    "%matplotlib inline"
   ]
  },
  {
   "cell_type": "code",
   "execution_count": 30,
   "metadata": {},
   "outputs": [],
   "source": [
    "test_result = pd.read_csv(\"6-3-1-logistic-regression.csv\")\n",
    "mod_glm = smf.glm(\"result ~ hours\", data = test_result,\n",
    "                 family = sm.families.Binomial()).fit()"
   ]
  },
  {
   "attachments": {
    "image.png": {
     "image/png": "[encoded data removed]"
    }
   },
   "cell_type": "markdown",
   "metadata": {},
   "source": [
    "### 6.4.2 피어슨 잔차\n",
    "![image.png](attachment:image.png)\n",
    "- 위와 같이 계산됨\n",
    "\n",
    "\n",
    "### 6.4.3 피어슨 잔차의 해석\n",
    "- 피어슨 잔차의 제곱합은 **피어슨 카이제곱통계량**으로 부르고 모델 적합도의 지표임\n",
    "\n",
    "\n",
    "### 6.4.4 피어슨 잔차(실습)"
   ]
  },
  {
   "cell_type": "code",
   "execution_count": 33,
   "metadata": {},
   "outputs": [
    {
     "name": "stderr",
     "output_type": "stream",
     "text": [
      "<ipython-input-33-23b79bfeef57>:3: DeprecationWarning: scipy.sqrt is deprecated and will be removed in SciPy 2.0.0, use numpy.lib.scimath.sqrt instead\n",
      "  peason_resid = (y - pred) / sp.sqrt(pred * (1 - pred))\n"
     ]
    },
    {
     "data": {
      "text/plain": [
       "0   -0.102351\n",
       "1   -0.102351\n",
       "2   -0.102351\n",
       "Name: result, dtype: float64"
      ]
     },
     "execution_count": 33,
     "metadata": {},
     "output_type": "execute_result"
    }
   ],
   "source": [
    "pred = mod_glm.predict()\n",
    "y = test_result.result\n",
    "peason_resid = (y - pred) / sp.sqrt(pred * (1 - pred))\n",
    "peason_resid.head(3)"
   ]
  },
  {
   "cell_type": "code",
   "execution_count": 34,
   "metadata": {},
   "outputs": [
    {
     "data": {
      "text/plain": [
       "0   -0.102351\n",
       "1   -0.102351\n",
       "2   -0.102351\n",
       "dtype: float64"
      ]
     },
     "execution_count": 34,
     "metadata": {},
     "output_type": "execute_result"
    }
   ],
   "source": [
    "mod_glm.resid_pearson.head(3)"
   ]
  },
  {
   "cell_type": "code",
   "execution_count": 35,
   "metadata": {},
   "outputs": [
    {
     "name": "stderr",
     "output_type": "stream",
     "text": [
      "<ipython-input-35-6b4eff90a61f>:1: DeprecationWarning: scipy.sum is deprecated and will be removed in SciPy 2.0.0, use numpy.sum instead\n",
      "  sp.sum(mod_glm.resid_pearson**2)\n"
     ]
    },
    {
     "data": {
      "text/plain": [
       "84.91138782569993"
      ]
     },
     "execution_count": 35,
     "metadata": {},
     "output_type": "execute_result"
    }
   ],
   "source": [
    "sp.sum(mod_glm.resid_pearson**2)"
   ]
  },
  {
   "cell_type": "code",
   "execution_count": 36,
   "metadata": {},
   "outputs": [
    {
     "data": {
      "text/plain": [
       "84.91138782569993"
      ]
     },
     "execution_count": 36,
     "metadata": {},
     "output_type": "execute_result"
    }
   ],
   "source": [
    "mod_glm.pearson_chi2"
   ]
  },
  {
   "attachments": {
    "image.png": {
     "image/png": "[encoded data removed]"
    }
   },
   "cell_type": "markdown",
   "metadata": {},
   "source": [
    "### 6.4.5 Deviance(디비언스)\n",
    "- 모델의 적합도를 평가하는 지표 (크면 모델이 맞지 않는다고 평가)\n",
    "![image.png](attachment:image.png)\n",
    "\n",
    "\n",
    "### 6.4.6 deviance의 해석\n",
    "- deviance는 잔차제곱합을 우도처럼 표현한 것 (최대우도법의 결과와 deviance라는 손실을 최소화하도록 파라미터를 추정한 결과는 일치)\n",
    "\n",
    "\n",
    "### 6.4.7 deviance와 우도비 검정\n",
    "- 2를 곱한 이유는 우도비 검정을 할 때 편하기 때문\n",
    "- deviance는 일반선형모델에서 잔차제곱합과 같은 의미를 갖는 지표 --> deviance의 차이를 통계량으로 한 검정은 분산분석처럼 해석 가능\n",
    "- deviance의 차이를 검정하는 것 : 우도비 검정\n",
    "\n",
    "\n",
    "### 6.4.8 deviance 잔차\n",
    "- 이항분포에서 deviance 잔차제곱합이 deviance가 된다는 사실!로 계산"
   ]
  },
  {
   "cell_type": "code",
   "execution_count": 37,
   "metadata": {},
   "outputs": [
    {
     "name": "stderr",
     "output_type": "stream",
     "text": [
      "<ipython-input-37-e9440746db5e>:3: DeprecationWarning: scipy.log is deprecated and will be removed in SciPy 2.0.0, use numpy.lib.scimath.log instead\n",
      "  resid_tmp = 0 - sp.log(\n",
      "<ipython-input-37-e9440746db5e>:5: DeprecationWarning: scipy.sqrt is deprecated and will be removed in SciPy 2.0.0, use numpy.lib.scimath.sqrt instead\n",
      "  deviance_resid = sp.sqrt(2 * resid_tmp) * np.sign(y - pred)\n"
     ]
    },
    {
     "data": {
      "text/plain": [
       "0   -0.144369\n",
       "1   -0.144369\n",
       "2   -0.144369\n",
       "Name: result, dtype: float64"
      ]
     },
     "execution_count": 37,
     "metadata": {},
     "output_type": "execute_result"
    }
   ],
   "source": [
    "pred = mod_glm.predict()\n",
    "y = test_result.result\n",
    "resid_tmp = 0 - sp.log(\n",
    "    sp.stats.binom.pmf(k = y, n = 1, p = pred))\n",
    "deviance_resid = sp.sqrt(2 * resid_tmp) * np.sign(y - pred)\n",
    "deviance_resid.head(3)"
   ]
  },
  {
   "cell_type": "code",
   "execution_count": 38,
   "metadata": {},
   "outputs": [
    {
     "data": {
      "text/plain": [
       "0   -0.144369\n",
       "1   -0.144369\n",
       "2   -0.144369\n",
       "dtype: float64"
      ]
     },
     "execution_count": 38,
     "metadata": {},
     "output_type": "execute_result"
    }
   ],
   "source": [
    "mod_glm.resid_deviance.head(3)"
   ]
  },
  {
   "cell_type": "code",
   "execution_count": 39,
   "metadata": {},
   "outputs": [
    {
     "name": "stderr",
     "output_type": "stream",
     "text": [
      "<ipython-input-39-003dcde03abc>:1: DeprecationWarning: scipy.sum is deprecated and will be removed in SciPy 2.0.0, use numpy.sum instead\n",
      "  sp.sum(mod_glm.resid_deviance ** 2)\n"
     ]
    },
    {
     "data": {
      "text/plain": [
       "68.0278811811727"
      ]
     },
     "execution_count": 39,
     "metadata": {},
     "output_type": "execute_result"
    }
   ],
   "source": [
    "sp.sum(mod_glm.resid_deviance ** 2)"
   ]
  },
  {
   "attachments": {
    "image-2.png": {
     "image/png": "[encoded data removed]"
    },
    "image-3.png": {
     "image/png": "[encoded data removed]"
    },
    "image-4.png": {
     "image/png": "[encoded data removed]"
    },
    "image.png": {
     "image/png": "[encoded data removed]"
    }
   },
   "cell_type": "markdown",
   "metadata": {},
   "source": [
    "### 6.4.9 교차 엔트로피 오차\n",
    "![image.png](attachment:image.png)\n",
    "- 모집단분포가 이항분포라고 가정한 경우 deviance와 같은 의미\n",
    "\n",
    "\n",
    "## 6.5 푸아송 회귀\n",
    "- 확률분포에 푸아송 분포를 사용하고, 링크함수에 로그함수를 사용한 일반선형모델\n",
    "\n",
    "\n",
    "### 6.5.1 이 절의 예제\n",
    "- 맥주 판매 계수를 예측\n",
    "- 선형예측자는 아래와 같음\n",
    "![image-2.png](attachment:image-2.png)\n",
    "\n",
    "\n",
    "### 6.5.2 푸아송 회귀의 구조\n",
    "![image-3.png](attachment:image-3.png)\n",
    "- 푸아송 분포의 확률질량함수는 아래와 같음\n",
    "![image-4.png](attachment:image-4.png)\n",
    "\n",
    "\n",
    "### 6.5.3 분석 준비"
   ]
  },
  {
   "cell_type": "code",
   "execution_count": 41,
   "metadata": {},
   "outputs": [],
   "source": [
    "import numpy as np\n",
    "import pandas as pd\n",
    "import scipy as sp\n",
    "from scipy import stats\n",
    "from matplotlib import pyplot as plt\n",
    "import seaborn as sns\n",
    "sns.set()\n",
    "import statsmodels.formula.api as smf\n",
    "import statsmodels.api as sm\n",
    "%precision 3\n",
    "%matplotlib inline"
   ]
  },
  {
   "cell_type": "code",
   "execution_count": 42,
   "metadata": {},
   "outputs": [
    {
     "name": "stdout",
     "output_type": "stream",
     "text": [
      "   beer_number  temperature\n",
      "0            6         17.5\n",
      "1           11         26.6\n",
      "2            2          5.0\n"
     ]
    }
   ],
   "source": [
    "beer = pd.read_csv(\"6-5-1-poisson-regression.csv\")\n",
    "print(beer.head(3))"
   ]
  },
  {
   "cell_type": "markdown",
   "metadata": {},
   "source": [
    "### 6.5.4 푸아송 회귀(실습)"
   ]
  },
  {
   "cell_type": "code",
   "execution_count": 43,
   "metadata": {},
   "outputs": [
    {
     "data": {
      "text/html": [
       "<table class=\"simpletable\">\n",
       "<caption>Generalized Linear Model Regression Results</caption>\n",
       "<tr>\n",
       "  <th>Dep. Variable:</th>      <td>beer_number</td>   <th>  No. Observations:  </th>  <td>    30</td> \n",
       "</tr>\n",
       "<tr>\n",
       "  <th>Model:</th>                  <td>GLM</td>       <th>  Df Residuals:      </th>  <td>    28</td> \n",
       "</tr>\n",
       "<tr>\n",
       "  <th>Model Family:</th>         <td>Poisson</td>     <th>  Df Model:          </th>  <td>     1</td> \n",
       "</tr>\n",
       "<tr>\n",
       "  <th>Link Function:</th>          <td>log</td>       <th>  Scale:             </th> <td>  1.0000</td>\n",
       "</tr>\n",
       "<tr>\n",
       "  <th>Method:</th>                <td>IRLS</td>       <th>  Log-Likelihood:    </th> <td> -57.672</td>\n",
       "</tr>\n",
       "<tr>\n",
       "  <th>Date:</th>            <td>Fri, 12 Feb 2021</td> <th>  Deviance:          </th> <td>  5.1373</td>\n",
       "</tr>\n",
       "<tr>\n",
       "  <th>Time:</th>                <td>16:11:09</td>     <th>  Pearson chi2:      </th>  <td>  5.40</td> \n",
       "</tr>\n",
       "<tr>\n",
       "  <th>No. Iterations:</th>          <td>4</td>        <th>                     </th>     <td> </td>   \n",
       "</tr>\n",
       "<tr>\n",
       "  <th>Covariance Type:</th>     <td>nonrobust</td>    <th>                     </th>     <td> </td>   \n",
       "</tr>\n",
       "</table>\n",
       "<table class=\"simpletable\">\n",
       "<tr>\n",
       "       <td></td>          <th>coef</th>     <th>std err</th>      <th>z</th>      <th>P>|z|</th>  <th>[0.025</th>    <th>0.975]</th>  \n",
       "</tr>\n",
       "<tr>\n",
       "  <th>Intercept</th>   <td>    0.4476</td> <td>    0.199</td> <td>    2.253</td> <td> 0.024</td> <td>    0.058</td> <td>    0.837</td>\n",
       "</tr>\n",
       "<tr>\n",
       "  <th>temperature</th> <td>    0.0761</td> <td>    0.008</td> <td>    9.784</td> <td> 0.000</td> <td>    0.061</td> <td>    0.091</td>\n",
       "</tr>\n",
       "</table>"
      ],
      "text/plain": [
       "<class 'statsmodels.iolib.summary.Summary'>\n",
       "\"\"\"\n",
       "                 Generalized Linear Model Regression Results                  \n",
       "==============================================================================\n",
       "Dep. Variable:            beer_number   No. Observations:                   30\n",
       "Model:                            GLM   Df Residuals:                       28\n",
       "Model Family:                 Poisson   Df Model:                            1\n",
       "Link Function:                    log   Scale:                          1.0000\n",
       "Method:                          IRLS   Log-Likelihood:                -57.672\n",
       "Date:                Fri, 12 Feb 2021   Deviance:                       5.1373\n",
       "Time:                        16:11:09   Pearson chi2:                     5.40\n",
       "No. Iterations:                     4                                         \n",
       "Covariance Type:            nonrobust                                         \n",
       "===============================================================================\n",
       "                  coef    std err          z      P>|z|      [0.025      0.975]\n",
       "-------------------------------------------------------------------------------\n",
       "Intercept       0.4476      0.199      2.253      0.024       0.058       0.837\n",
       "temperature     0.0761      0.008      9.784      0.000       0.061       0.091\n",
       "===============================================================================\n",
       "\"\"\""
      ]
     },
     "execution_count": 43,
     "metadata": {},
     "output_type": "execute_result"
    }
   ],
   "source": [
    "mod_pois = smf.glm(\"beer_number ~ temperature\", beer,\n",
    "                  family = sm.families.Poisson()).fit()\n",
    "mod_pois.summary()"
   ]
  },
  {
   "cell_type": "markdown",
   "metadata": {},
   "source": [
    "- 기온의 계수가 양의 값 : 기온이 오르면 판매 개수도 늘어날 것만 같음\n",
    "\n",
    "\n",
    "### 6.5.5 모델 선택\n",
    "- Null 모델 추정"
   ]
  },
  {
   "cell_type": "code",
   "execution_count": 44,
   "metadata": {},
   "outputs": [],
   "source": [
    "mod_pois_null = smf.glm(\n",
    "    \"beer_number ~ 1\", data = beer,\n",
    "    family=sm.families.Poisson()).fit()"
   ]
  },
  {
   "cell_type": "code",
   "execution_count": 45,
   "metadata": {},
   "outputs": [
    {
     "name": "stdout",
     "output_type": "stream",
     "text": [
      "Null 모델        :  223.363\n",
      "변수가 있는 모델 :  119.343\n"
     ]
    }
   ],
   "source": [
    "print(\"Null 모델        : \", mod_pois_null.aic.round(3))\n",
    "print(\"변수가 있는 모델 : \", mod_pois.aic.round(3))"
   ]
  },
  {
   "cell_type": "markdown",
   "metadata": {},
   "source": [
    "### 6.5.6 회귀곡선 그래프"
   ]
  },
  {
   "cell_type": "code",
   "execution_count": 46,
   "metadata": {},
   "outputs": [
    {
     "data": {
      "text/plain": [
       "[<matplotlib.lines.Line2D at 0x20af8f5edc0>]"
      ]
     },
     "execution_count": 46,
     "metadata": {},
     "output_type": "execute_result"
    },
    {
     "data": {
      "image/png": "[encoded data removed]",
      "text/plain": [
       "<Figure size 360x360 with 1 Axes>"
      ]
     },
     "metadata": {
      "needs_background": "light"
     },
     "output_type": "display_data"
    }
   ],
   "source": [
    "x_plot = np.arange(0, 37)\n",
    "pred = mod_pois.predict(pd.DataFrame({\"temperature\" : x_plot}))\n",
    "sns.lmplot(y = \"beer_number\", x = \"temperature\",\n",
    "          data = beer, fit_reg = False,\n",
    "          scatter_kws = {\"color\":\"black\"})\n",
    "plt.plot(x_plot, pred, color = \"black\")"
   ]
  },
  {
   "cell_type": "markdown",
   "metadata": {},
   "source": [
    "### 6.5.7 회귀계수 해석\n",
    "- 기온이 1도 오르면 맥주 판매 개수가 몇 배 되는지 확인해보자"
   ]
  },
  {
   "cell_type": "code",
   "execution_count": 47,
   "metadata": {},
   "outputs": [
    {
     "data": {
      "text/plain": [
       "0    1.079045\n",
       "dtype: float64"
      ]
     },
     "execution_count": 47,
     "metadata": {},
     "output_type": "execute_result"
    }
   ],
   "source": [
    "exp_val_1 = pd.DataFrame({\"temperature\": [1]})\n",
    "pred_1 = mod_pois.predict(exp_val_1)\n",
    "\n",
    "exp_val_2 = pd.DataFrame({\"temperature\": [2]})\n",
    "pred_2 = mod_pois.predict(exp_val_2)\n",
    "\n",
    "pred_2 / pred_1"
   ]
  },
  {
   "cell_type": "code",
   "execution_count": 48,
   "metadata": {},
   "outputs": [
    {
     "name": "stderr",
     "output_type": "stream",
     "text": [
      "<ipython-input-48-46b53f7a02bd>:1: DeprecationWarning: scipy.exp is deprecated and will be removed in SciPy 2.0.0, use numpy.exp instead\n",
      "  sp.exp(mod_pois.params[\"temperature\"])\n"
     ]
    },
    {
     "data": {
      "text/plain": [
       "1.079045054586893"
      ]
     },
     "execution_count": 48,
     "metadata": {},
     "output_type": "execute_result"
    }
   ],
   "source": [
    "sp.exp(mod_pois.params[\"temperature\"])"
   ]
  },
  {
   "cell_type": "markdown",
   "metadata": {},
   "source": [
    "- 독립변수의 영향이 곱셈이 되는 것은 해석에 있어 매우 중요하기에 기억할 것!"
   ]
  }
 ],
 "metadata": {
  "kernelspec": {
   "display_name": "Python 3",
   "language": "python",
   "name": "python3"
  },
  "language_info": {
   "codemirror_mode": {
    "name": "ipython",
    "version": 3
   },
   "file_extension": ".py",
   "mimetype": "text/x-python",
   "name": "python",
   "nbconvert_exporter": "python",
   "pygments_lexer": "ipython3",
   "version": "3.8.5"
  }
 },
 "nbformat": 4,
 "nbformat_minor": 4
}
