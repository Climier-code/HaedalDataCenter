{
 "cells": [
  {
   "cell_type": "markdown",
   "metadata": {},
   "source": [
    "#### 3.8 통계적가설검정"
   ]
  },
  {
   "cell_type": "markdown",
   "metadata": {},
   "source": [
    "##### 3.8.1 통계적가설검정\n",
    "- 표본을 사용해서 모집단에 관한 통계적인 판단을 내리는 방법\n",
    "- 판단의 기준으로서 통계적인 표현을 사용한다\n",
    "- 표본만 사용해서 모집단에 관한 통계적인 판단을 내리는 것은 어려운 일\n",
    "- 검정 결과 해석시 신중하게"
   ]
  },
  {
   "cell_type": "markdown",
   "metadata": {},
   "source": [
    "##### 3.8.2 1변량 데이터의 t검정\n",
    "- 모집단의 분산이나 표준편차를 알지 못할 때 모집단을 대표하는 표본으로부터 추정된 분산이나 표준편차를 가지고 검정하는 방법\n",
    ">1. 두 모집단의 평균간의 차이는 없다(귀무가설)\n",
    ">2. 두 모집단의 평균간에 차이가 있다(대립가설)\n",
    "- 내용량이 50g라 쓰여있는 과자가 있을 때\n",
    ">49g이 들어 있을 수도 있고, 51g이 들어 있을 수도 있다\n",
    ">하지만 내용량의 평균값은 50g이 되게 하고 있을 것이다\n",
    ">이 때, t검정을 사용하여 이 과자봉지들의 내용량의 평균값이 50g인지 판단한다"
   ]
  },
  {
   "cell_type": "markdown",
   "metadata": {},
   "source": [
    "##### 3.8.3 유의미한 차이\n",
    "- 말그대로 의미가 있는 차이\n",
    "- 의미가 없는 차이도 있다\n",
    "- 데이터 해석할 때 중요"
   ]
  },
  {
   "cell_type": "markdown",
   "metadata": {},
   "source": [
    "##### 3.8.4 t검정:직관적인 생각\n",
    "- 유의미한 차이를 직관적으로 설명해보자\n",
    ">과자를 2봉지 뜯었다. 가정용 저울로 측정했더니 첫 번째 봉지는 55g이고, 두 번째 봉지는 44g이었으며, 평균은 49.5g이다. 평균이 50g은 아니지만 이게 의미있는 차이인가?  \n",
    "- 그럼 언제 유의미한 차이가 있나?\n",
    ">1. 큰 샘플에서 조사했다\n",
    ">2. 정밀한 저울로 측정했다\n",
    ">3. 중량의 평균값이 50g에서 크게 벗어난다"
   ]
  },
  {
   "cell_type": "markdown",
   "metadata": {},
   "source": [
    "##### 3.8.5 평균값의 차이가 큰 것만으로는 유의미한 차이를 얻을 수 없다\n",
    "- 아주 중요하니 반드시 기억하자\n",
    "- 극단적인 예를 들어보자\n",
    ">오래된 저울이 있다. 이 저울은 망가져서 똑같은 물건의 무게를 재도 매번 측정값이 다르다.  \n",
    ">이 저울로 두 봉지를 측정했더니 10g, 60g이 나왔고 평균이 35g다.  \n",
    ">하지만 이 결과를 유의미한 차이가 있다고 할까?  \n",
    ">No.  샘플사이즈가 작고 분산정도가 꽤 크기때문"
   ]
  },
  {
   "attachments": {
    "580b33a0-7113-47c0-bb2e-53b3bcbd1977.png": {
     "image/png": "[encoded data removed]"
    },
    "af7e2a9e-b781-47cc-a8fb-f6e2ce9d7cef.png": {
     "image/png": "[encoded data removed]"
    }
   },
   "cell_type": "markdown",
   "metadata": {},
   "source": [
    "##### 3.8.6 t값\n",
    "- t검정에서 유의미한 차이가 있다고 간주하는 조건\n",
    ">1. 큰 샘플에서 조사했다\n",
    ">2. 정밀한 저울로 측정했다\n",
    ">3. 중량의 평균값이 50g에서 크게 벗어난다\n",
    "- 위 3가지를 모두 만족한 지표를 t값이라고 부른다  \n",
    "![image.png](attachment:af7e2a9e-b781-47cc-a8fb-f6e2ce9d7cef.png)\n",
    "- 과자의 예시에서 표본평균이 50g과 다른지 여부를 검정하는 경우\n",
    "![image.png](attachment:580b33a0-7113-47c0-bb2e-53b3bcbd1977.png)\n",
    "- t값이 크면 유의미한 차이가 있다"
   ]
  },
  {
   "cell_type": "markdown",
   "metadata": {},
   "source": [
    "##### 3.8.7 통계적가설검정의 틀:귀무가설, 대립가설\n",
    "- 데이터에 대한 객관적인 판단을 하는 방법:가설을 세워서 그 가설이 기각되는지 판단\n",
    "- 귀무가설:기각 대상이 되는 첫 번째 가설\n",
    "- 대립가설:귀무가설과 대립되는 가설\n",
    "- 과자의 예에서\n",
    ">귀무가설:봉지과자의 평균중량이 50g이다  \n",
    ">대립가설:봉지과자의 평균중량이 50g이 아니다\n",
    "- 귀무가설이 기각되면 유의미한 차이가 있다는 말\n",
    "- 즉, 과자의 평균중량이 50g이 아니다\n",
    "- 돌아가는 것 같지만 정확한 방법"
   ]
  },
  {
   "cell_type": "markdown",
   "metadata": {},
   "source": [
    "##### 3.8.8 p값\n",
    "- 표본과 귀무가설 간의 모순을 나타내는 지표\n",
    "- p값이 작을수록 귀무가설과 표본이 모순됨\n",
    "- 뒤에서 추가 설명"
   ]
  },
  {
   "cell_type": "markdown",
   "metadata": {},
   "source": [
    "##### 3.8.9 유의수준\n",
    "- 유의수준:귀무가설을 기각하는 기준이되는 값\n",
    "- 즉, p값이 유의수준을 밑돌면 귀무가설을 기각한다(유의미한 차이가 있다)\n",
    "- 주로 5%를 사용한다\n",
    "- 위험률 이라고도 함"
   ]
  },
  {
   "cell_type": "markdown",
   "metadata": {},
   "source": [
    "##### 3.8.10 t검정과 t분포의 관계\n",
    "- 1-α 가 작아지면 유의미한 차이가 있다"
   ]
  },
  {
   "cell_type": "markdown",
   "metadata": {},
   "source": [
    "##### 3.8.11 단측검정과 양측검정\n",
    "- 단측검정:봉지과자의 평균중량이 50g보다 작다는 것을 알아보는 검정(큰지는 관심x) \n",
    "- or 평균 중량이 50g보다 크다는 것을 알아보고 50g보다 작다는 것을 상정x\n",
    "- 양측검정:봉지과자의 평균중량이 50g과 다르다는 것을 알아보는 검정(작을수도, 클수도)\n",
    "- 주로 양측검정"
   ]
  },
  {
   "cell_type": "markdown",
   "metadata": {},
   "source": [
    "##### 3.8.12 p값 계산 방법\n",
    "- p값 = (1-α)x2"
   ]
  },
  {
   "cell_type": "markdown",
   "metadata": {},
   "source": [
    "##### 3.8.13 t검정의 구현:분석 준비"
   ]
  },
  {
   "cell_type": "code",
   "execution_count": 257,
   "metadata": {},
   "outputs": [
    {
     "data": {
      "text/plain": [
       "0    58.529820\n",
       "1    52.353039\n",
       "2    74.446169\n",
       "3    52.983263\n",
       "4    55.876879\n",
       "Name: weight, dtype: float64"
      ]
     },
     "execution_count": 257,
     "metadata": {},
     "output_type": "execute_result"
    }
   ],
   "source": [
    "junk_food = pd.read_csv(\"3-8-1-junk-food-weight.csv\")[\"weight\"]\n",
    "junk_food.head()"
   ]
  },
  {
   "cell_type": "markdown",
   "metadata": {},
   "source": [
    ">귀무가설:봉지과자의 평균중량이 50g이다  \n",
    ">대립가설:봉지과자의 평균중량이 50g이 아니다\n",
    "- 유의수준 5%로 설정, p값이 0.05보다 낮다면 귀무가설 기각 즉, 과자의 중량은 유의미하게 50g과 다르다"
   ]
  },
  {
   "attachments": {
    "913df986-d68d-45c1-8a0a-5b1183e0a2cd.png": {
     "image/png": "[encoded data removed]"
    }
   },
   "cell_type": "markdown",
   "metadata": {},
   "source": [
    "##### 3.8.14 t검정의 구현:t값 계산\n",
    "![image.png](attachment:913df986-d68d-45c1-8a0a-5b1183e0a2cd.png)\n",
    "- 비교대상:50g"
   ]
  },
  {
   "cell_type": "code",
   "execution_count": 259,
   "metadata": {},
   "outputs": [
    {
     "data": {
      "text/plain": [
       "55.38496619666667"
      ]
     },
     "execution_count": 259,
     "metadata": {},
     "output_type": "execute_result"
    }
   ],
   "source": [
    "# 표본평균\n",
    "mu =np.mean(junk_food)\n",
    "mu"
   ]
  },
  {
   "cell_type": "code",
   "execution_count": 261,
   "metadata": {},
   "outputs": [
    {
     "data": {
      "text/plain": [
       "19"
      ]
     },
     "execution_count": 261,
     "metadata": {},
     "output_type": "execute_result"
    }
   ],
   "source": [
    "#자유도\n",
    "df = len(junk_food) - 1\n",
    "df"
   ]
  },
  {
   "cell_type": "code",
   "execution_count": 264,
   "metadata": {},
   "outputs": [
    {
     "data": {
      "text/plain": [
       "1.957927680575589"
      ]
     },
     "execution_count": 264,
     "metadata": {},
     "output_type": "execute_result"
    }
   ],
   "source": [
    "# 표준오차 = 표준편차 / 샘플사이즈의 루트값\n",
    "sigma = np.std(junk_food, ddof = 1)\n",
    "se = sigma / np.sqrt(len(junk_food))\n",
    "se"
   ]
  },
  {
   "cell_type": "code",
   "execution_count": 265,
   "metadata": {},
   "outputs": [
    {
     "data": {
      "text/plain": [
       "2.750339683171343"
      ]
     },
     "execution_count": 265,
     "metadata": {},
     "output_type": "execute_result"
    }
   ],
   "source": [
    "t_value = (mu -50) / se\n",
    "t_value"
   ]
  },
  {
   "cell_type": "markdown",
   "metadata": {},
   "source": [
    "##### 3.8.15 t검정의 구현:p 값 계산\n",
    "- 모집단을 정규분포라고 가정했을 때, t값은 t분포를 따른다고 생각\n",
    "- t분포의 누적분포함수를 사용하자\n",
    "- α = t값이 t표본보다 작을 확률\n",
    "- 1 - α = t값이 t표본보다 클 확률\n",
    "- 1 - α값이 작아지면 t값이 t표본보다 클 확률이 낮다. 즉, t표본이 충분히 크다 = 유의미한 차이다\n",
    "- 양측검정시 p = (1 - α) x 2"
   ]
  },
  {
   "cell_type": "code",
   "execution_count": 266,
   "metadata": {},
   "outputs": [
    {
     "data": {
      "text/plain": [
       "0.012725590012524046"
      ]
     },
     "execution_count": 266,
     "metadata": {},
     "output_type": "execute_result"
    }
   ],
   "source": [
    "alpha = stats.t.cdf(t_value, df = df)\n",
    "(1 - alpha) * 2"
   ]
  },
  {
   "cell_type": "markdown",
   "metadata": {},
   "source": [
    "- p값이 유의수준 0.05보다 작으므로 유의미한 차이가 있다\n",
    "- 즉, 봉지과자의 평균 중량은 50g과 유의미하게 차이가 있다"
   ]
  },
  {
   "cell_type": "code",
   "execution_count": 267,
   "metadata": {},
   "outputs": [
    {
     "data": {
      "text/plain": [
       "Ttest_1sampResult(statistic=2.750339683171343, pvalue=0.012725590012524182)"
      ]
     },
     "execution_count": 267,
     "metadata": {},
     "output_type": "execute_result"
    }
   ],
   "source": [
    "# 간단하게 1표본의 t검정을 하는 함수\n",
    "stats.ttest_1samp(junk_food, 50)"
   ]
  },
  {
   "cell_type": "markdown",
   "metadata": {},
   "source": [
    "##### 3.8.16 시뮬레이션에 의한 p값 계산\n",
    "- p값:t값 계산을 반복했을 때 t표본과 같거나 그보다 큰 t값을 얻는 비율\n",
    "- 양측검정일 경우 이 비율을 2배한 것이 p값\n",
    "- p값이 작은 경우 t표본을 넘을 일이 거의 없으므로 유의미한 차이를 얻을 수 있다고 판단"
   ]
  },
  {
   "cell_type": "code",
   "execution_count": null,
   "metadata": {},
   "outputs": [],
   "source": [
    "# 샘플 사이즈와 \n",
    "size = len(junk_food)\n",
    "sigma = np.std(junk_food, ddof = 1)"
   ]
  },
  {
   "cell_type": "code",
   "execution_count": null,
   "metadata": {},
   "outputs": [],
   "source": [
    "# 시뮬레이션 50000번\n",
    "t_value_array = np.zeros(50000)"
   ]
  },
  {
   "cell_type": "code",
   "execution_count": null,
   "metadata": {},
   "outputs": [],
   "source": [
    "np.random.seed(1)\n",
    "norm_dist = stats.norm(loc = 50, scale = sigma)\n",
    "for i in range(0, 50000):\n",
    "    sample = norm_dist.rvs(size = size)\n",
    "    sample_mean = np.mean(sample)\n",
    "    sample_std = np.std(sample, ddof = 1)\n",
    "    sample_se = sample_std / np.sqrt(size)\n",
    "    t_value_array[i] = (sample_mean - 50) / sample_se"
   ]
  },
  {
   "cell_type": "code",
   "execution_count": null,
   "metadata": {},
   "outputs": [],
   "source": [
    "# 50000개의 t값 중 t표본을 넘어선 비율. 2배 해주면 p값\n",
    "(sum(t_value_array > t_value) / 50000) * 2"
   ]
  }
 ],
 "metadata": {
  "kernelspec": {
   "display_name": "Python 3",
   "language": "python",
   "name": "python3"
  },
  "language_info": {
   "codemirror_mode": {
    "name": "ipython",
    "version": 3
   },
   "file_extension": ".py",
   "mimetype": "text/x-python",
   "name": "python",
   "nbconvert_exporter": "python",
   "pygments_lexer": "ipython3",
   "version": "3.8.5"
  }
 },
 "nbformat": 4,
 "nbformat_minor": 4
}
