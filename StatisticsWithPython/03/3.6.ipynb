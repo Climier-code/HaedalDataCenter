{
 "cells": [
  {
   "cell_type": "markdown",
   "metadata": {},
   "source": [
    "#### 3.6 정규분포와 응용\n",
    "- 시뮬레이션 없이 계산만으로 다양한 것을 알 수 있다\n",
    "- 확률밀도함수를 이용하는 방법, 파이썬으로 구현하는 방법\n",
    "- 표본분포로 t분포 도입"
   ]
  },
  {
   "cell_type": "markdown",
   "metadata": {},
   "source": [
    "##### 3.6.1 라이브러리 임포트"
   ]
  },
  {
   "attachments": {
    "ea847106-25dd-4ce5-a86f-b73e3d847138.png": {
     "image/png": "[encoded data removed]"
    }
   },
   "cell_type": "markdown",
   "metadata": {},
   "source": [
    "##### 3.6.2 확률밀도\n",
    "![image.png](attachment:ea847106-25dd-4ce5-a86f-b73e3d847138.png)"
   ]
  },
  {
   "cell_type": "code",
   "execution_count": 175,
   "metadata": {},
   "outputs": [
    {
     "data": {
      "text/plain": [
       "3.141592653589793"
      ]
     },
     "execution_count": 175,
     "metadata": {},
     "output_type": "execute_result"
    }
   ],
   "source": [
    "sp.pi #원주율 값"
   ]
  },
  {
   "cell_type": "code",
   "execution_count": 176,
   "metadata": {},
   "outputs": [
    {
     "data": {
      "text/plain": [
       "2.718281828459045"
      ]
     },
     "execution_count": 176,
     "metadata": {},
     "output_type": "execute_result"
    }
   ],
   "source": [
    "np.exp(1) #e^1"
   ]
  },
  {
   "cell_type": "code",
   "execution_count": 179,
   "metadata": {},
   "outputs": [
    {
     "data": {
      "text/plain": [
       "0.22831135673627742"
      ]
     },
     "execution_count": 179,
     "metadata": {},
     "output_type": "execute_result"
    }
   ],
   "source": [
    "# 확률변수가 3일 때의 확률밀도\n",
    "x = 3\n",
    "mu = 4\n",
    "sigma = 0.8\n",
    "1 / (np.sqrt(2 * sp.pi * sigma**2)) * \\\n",
    "    np.exp(-((x - mu) **2) / (2 * sigma**2))"
   ]
  },
  {
   "cell_type": "code",
   "execution_count": 181,
   "metadata": {},
   "outputs": [
    {
     "data": {
      "text/plain": [
       "0.2283113567362774"
      ]
     },
     "execution_count": 181,
     "metadata": {},
     "output_type": "execute_result"
    }
   ],
   "source": [
    "stats.norm.pdf(loc = 4, scale = 0.8, x = 3)"
   ]
  },
  {
   "cell_type": "code",
   "execution_count": 183,
   "metadata": {},
   "outputs": [
    {
     "data": {
      "text/plain": [
       "[<matplotlib.lines.Line2D at 0x14d6e2b46d0>]"
      ]
     },
     "execution_count": 183,
     "metadata": {},
     "output_type": "execute_result"
    },
    {
     "data": {
      "image/png": "[encoded data removed]",
      "text/plain": [
       "<Figure size 432x288 with 1 Axes>"
      ]
     },
     "metadata": {},
     "output_type": "display_data"
    }
   ],
   "source": [
    "x_plot = np.arange(start = 1, stop = 7.1, step = 0.1)\n",
    "plt.plot(\n",
    "    x_plot,\n",
    "    stats.norm.pdf(x = x_plot, loc = 4, scale = 0.8),\n",
    "    color = 'black'\n",
    ")"
   ]
  },
  {
   "cell_type": "markdown",
   "metadata": {},
   "source": [
    "##### 3.6.3 표본이 어떤 값 이하가 되는 비율\n",
    "- 어떤 값 이하가 되는 데이터의 개수 / 샘플사이즈"
   ]
  },
  {
   "cell_type": "code",
   "execution_count": 184,
   "metadata": {},
   "outputs": [
    {
     "data": {
      "text/plain": [
       "array([5.29947629, 3.51059487, 3.5774626 , ..., 4.06498025, 4.27523694,\n",
       "       3.401955  ])"
      ]
     },
     "execution_count": 184,
     "metadata": {},
     "output_type": "execute_result"
    }
   ],
   "source": [
    "# 평균4, 표준편차 0.8인 모집단에서 표본추출\n",
    "np.random.seed(1)\n",
    "simulated_sample = stats.norm.rvs(\n",
    "    loc = 4, scale = 0.8, size = 100000)\n",
    "simulated_sample"
   ]
  },
  {
   "cell_type": "code",
   "execution_count": 187,
   "metadata": {},
   "outputs": [
    {
     "data": {
      "text/plain": [
       "10371"
      ]
     },
     "execution_count": 187,
     "metadata": {},
     "output_type": "execute_result"
    }
   ],
   "source": [
    "# 3이하인 데이터의 개수\n",
    "np.sum(simulated_sample <= 3)"
   ]
  },
  {
   "cell_type": "code",
   "execution_count": 188,
   "metadata": {},
   "outputs": [
    {
     "data": {
      "text/plain": [
       "0.10371"
      ]
     },
     "execution_count": 188,
     "metadata": {},
     "output_type": "execute_result"
    }
   ],
   "source": [
    "# 샘플사이즈로 나눔\n",
    "np.sum(simulated_sample <= 3) / len(simulated_sample)"
   ]
  },
  {
   "attachments": {
    "bbe4e84c-985e-4e79-b03f-eab73e5633d2.png": {
     "image/png": "[encoded data removed]"
    },
    "ff3f56a9-0bdf-4202-a3a5-e3c8aaaa6519.png": {
     "image/png": "[encoded data removed]"
    }
   },
   "cell_type": "markdown",
   "metadata": {},
   "source": [
    "##### 3.6.4 누적분포함수\n",
    "![image.png](attachment:ff3f56a9-0bdf-4202-a3a5-e3c8aaaa6519.png)\n",
    "- F(x)를 누적분포함수 또는 분포함수라고 한다  \n",
    "![image.png](attachment:bbe4e84c-985e-4e79-b03f-eab73e5633d2.png)\n",
    "- 확률 밀도를 전부 더한 것\n",
    "- 파이썬 stats.norm의 cdf(Cumulative Distribution Function)"
   ]
  },
  {
   "cell_type": "code",
   "execution_count": 189,
   "metadata": {},
   "outputs": [
    {
     "data": {
      "text/plain": [
       "0.10564977366685535"
      ]
     },
     "execution_count": 189,
     "metadata": {},
     "output_type": "execute_result"
    }
   ],
   "source": [
    "# 평균4, 표준편차0.8인 모집단분포에서 얻은 확률변수가 3 이하가 될 확률\n",
    "stats.norm.cdf(loc = 4, scale = 0.8, x=3)"
   ]
  },
  {
   "cell_type": "code",
   "execution_count": 190,
   "metadata": {},
   "outputs": [
    {
     "data": {
      "text/plain": [
       "0.5"
      ]
     },
     "execution_count": 190,
     "metadata": {},
     "output_type": "execute_result"
    }
   ],
   "source": [
    "# 정규분포는 평균에 대해 좌우대칭\n",
    "stats.norm.cdf(loc = 4, scale = 0.8, x = 4)"
   ]
  },
  {
   "cell_type": "markdown",
   "metadata": {},
   "source": [
    "##### 3.6.5 하측확률과 퍼센트포인트\n",
    "- 하측확률:데이터가 어떤 값 이하가 될 확률\n",
    "- 퍼센트포인트:어떤 확률이 될 기준치\n",
    "- 퍼센트포인트 계산 stats.norm의 ppf함수(Percent Point Function)"
   ]
  },
  {
   "cell_type": "code",
   "execution_count": 191,
   "metadata": {},
   "outputs": [
    {
     "data": {
      "text/plain": [
       "2.4320288123679563"
      ]
     },
     "execution_count": 191,
     "metadata": {},
     "output_type": "execute_result"
    }
   ],
   "source": [
    "# 하측롹률이 2.5%가 되는 퍼센트포인트\n",
    "stats.norm.ppf(loc = 4, scale = 0.8, q = 0.025)"
   ]
  },
  {
   "cell_type": "code",
   "execution_count": 192,
   "metadata": {},
   "outputs": [
    {
     "data": {
      "text/plain": [
       "3.0000000000000004"
      ]
     },
     "execution_count": 192,
     "metadata": {},
     "output_type": "execute_result"
    }
   ],
   "source": [
    "# 3 이하가 될 확률\n",
    "lower = stats.norm.cdf(loc = 4, scale = 0.8, x = 3)\n",
    "# 퍼센트포인트를 구하는 ppf의 인자로 cdf함수의 결과를 넣음\n",
    "stats.norm.ppf(loc = 4, scale = 0.8, q = lower)"
   ]
  },
  {
   "cell_type": "code",
   "execution_count": 193,
   "metadata": {},
   "outputs": [
    {
     "data": {
      "text/plain": [
       "4.0"
      ]
     },
     "execution_count": 193,
     "metadata": {},
     "output_type": "execute_result"
    }
   ],
   "source": [
    "# 하측확률이 50%가 되는 퍼센트포인트는 평균과 일치\n",
    "stats.norm.ppf(loc = 4, scale = 0.8, q = 0.5)"
   ]
  },
  {
   "cell_type": "markdown",
   "metadata": {},
   "source": [
    "##### 3.6.6 표준정규분포\n",
    "- 평균 0, 분산(표준편차) 1인 정규분포"
   ]
  },
  {
   "attachments": {
    "a7826c16-8dc9-4d44-9ed1-b922b44d0f63.png": {
     "image/png": "[encoded data removed]"
    },
    "f48c9157-cc12-4938-84be-68a54860d706.png": {
     "image/png": "[encoded data removed]"
    }
   },
   "cell_type": "markdown",
   "metadata": {},
   "source": [
    "##### 3.6.7 t값\n",
    "![image.png](attachment:f48c9157-cc12-4938-84be-68a54860d706.png)\n",
    "![image.png](attachment:a7826c16-8dc9-4d44-9ed1-b922b44d0f63.png)"
   ]
  },
  {
   "attachments": {
    "f320092e-2c1c-4a9a-8cc4-da264e02827d.png": {
     "image/png": "[encoded data removed]"
    }
   },
   "cell_type": "markdown",
   "metadata": {},
   "source": [
    "##### 3.6.8 t값의 표본분포\n",
    "1. 모집단분포가 ![image.png](attachment:f320092e-2c1c-4a9a-8cc4-da264e02827d.png)인 모집단에서 표본추출 시뮬레이션. 샘플사이즈 10\n",
    "2. 얻은 표본에서 표본평균 구함\n",
    "3. 얻은 표본에서 표준오차 구함. 표준오차는 표본평균의 표준편차로 간주\n",
    "4. (표본평균 - 모평균) / 표준오차 계산으로 t값을 계산\n",
    "5. 이 시행을 10000번 반복"
   ]
  },
  {
   "cell_type": "code",
   "execution_count": 231,
   "metadata": {},
   "outputs": [],
   "source": [
    "# 난수 시드 설정\n",
    "np.random.seed(1)\n",
    "# t값을 저장할 변수 설정\n",
    "t_value_array = np.zeros(10000)\n",
    "# 정규분포의 클래스의 인스턴스\n",
    "norm_dist = stats.norm(loc = 4, scale = 0.8)\n",
    "# 시뮬레이션 실행\n",
    "for i in range(0, 10000):\n",
    "    sample = norm_dist.rvs(size = 10)\n",
    "    sample_mean = np.mean(sample)\n",
    "    sample_std = np.std(sample, ddof = 1)\n",
    "    sample_se = sample_std / np.sqrt(len(sample))\n",
    "    t_value_array[i] = (sample_mean - 4) / sample_se"
   ]
  },
  {
   "cell_type": "code",
   "execution_count": 232,
   "metadata": {},
   "outputs": [
    {
     "name": "stderr",
     "output_type": "stream",
     "text": [
      "c:\\users\\82102\\appdata\\local\\programs\\python\\python38\\lib\\site-packages\\seaborn\\distributions.py:2551: FutureWarning: `distplot` is a deprecated function and will be removed in a future version. Please adapt your code to use either `displot` (a figure-level function with similar flexibility) or `histplot` (an axes-level function for histograms).\n",
      "  warnings.warn(msg, FutureWarning)\n"
     ]
    },
    {
     "data": {
      "text/plain": [
       "[<matplotlib.lines.Line2D at 0x14d7069d130>]"
      ]
     },
     "execution_count": 232,
     "metadata": {},
     "output_type": "execute_result"
    },
    {
     "data": {
      "image/png": "[encoded data removed]",
      "text/plain": [
       "<Figure size 432x288 with 1 Axes>"
      ]
     },
     "metadata": {},
     "output_type": "display_data"
    }
   ],
   "source": [
    "# t값의 히스토그램\n",
    "sns.distplot(t_value_array, color = 'black')\n",
    "# 표준정규분포의 확률밀도\n",
    "x = np.arange(start = -8, stop = 8.1, step = 0.1)\n",
    "plt.plot(x, stats.norm.pdf(x = x), color = 'black', linestyle = 'dotted')"
   ]
  }
 ],
 "metadata": {
  "kernelspec": {
   "display_name": "Python 3",
   "language": "python",
   "name": "python3"
  },
  "language_info": {
   "codemirror_mode": {
    "name": "ipython",
    "version": 3
   },
   "file_extension": ".py",
   "mimetype": "text/x-python",
   "name": "python",
   "nbconvert_exporter": "python",
   "pygments_lexer": "ipython3",
   "version": "3.8.5"
  }
 },
 "nbformat": 4,
 "nbformat_minor": 4
}
