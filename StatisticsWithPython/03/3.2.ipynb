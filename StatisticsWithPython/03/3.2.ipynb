{
 "cells": [
  {
   "cell_type": "markdown",
   "metadata": {},
   "source": [
    "#### 3.2 파이썬을 이용한 기술통계:다변량 데이터\n",
    "- 다변량 데이터:여러 개의 변수를 조합한 데이터 ex.구두 판매액과 구두 색의 조합"
   ]
  },
  {
   "cell_type": "markdown",
   "metadata": {},
   "source": [
    "##### 3.2.1 깔끔한 데이터\n",
    "- 깔끔한 데이터:분석하기 쉽게 정리한 표 형태의 데이터\n",
    "- 깔끔한 데이터의 특징\n",
    " > 1. 개별 값이 하나의 셀을 이룬다\n",
    " > 2. 개별 변수가 하나의 열을 이룬다\n",
    " > 3. 개별 관측이 하나의 행을 이룬다\n",
    " > 4. 개별 관측 유닛 유형이 하나의 표를 이룬다\n",
    "- 깔끔한 데이터를 사용하면 복잡한 데이터를 모을 때 통일성 있는 처리를 할 수 있다"
   ]
  },
  {
   "cell_type": "markdown",
   "metadata": {},
   "source": [
    "##### 3.2.2 지저분한 데이터\n",
    "- 깔끔한 데이터가 아닌 데이터"
   ]
  },
  {
   "cell_type": "markdown",
   "metadata": {},
   "source": [
    "##### 3.2.3 교차분석표\n",
    "- 의미는 명확하지만 깔끔한 데이터는 아닌 형식의 데이터\n",
    "- 분할표라고도 함\n",
    "- 데이터를 분석할 때는 가능한 한 깔끔한 데이터가 되게 관리하고, 필요시 교차분석표로 변환해야하는 것이 좋다"
   ]
  },
  {
   "cell_type": "markdown",
   "metadata": {},
   "source": [
    "##### 3.2.4 다변량 데이터 관리하기\n",
    "- 깔끔한 데이터는 pandas의 데이터프레임으로 간단하게 관리할 수 있다."
   ]
  },
  {
   "cell_type": "code",
   "execution_count": 32,
   "metadata": {},
   "outputs": [],
   "source": [
    "import pandas as pd"
   ]
  },
  {
   "cell_type": "code",
   "execution_count": 33,
   "metadata": {},
   "outputs": [
    {
     "name": "stdout",
     "output_type": "stream",
     "text": [
      "  species  length\n",
      "0       A       2\n",
      "1       A       3\n",
      "2       A       4\n",
      "3       B       6\n",
      "4       B       8\n",
      "5       B      10\n"
     ]
    }
   ],
   "source": [
    "fish_multi=pd.read_csv(\"3-2-1-fish_multi.csv\")\n",
    "print(fish_multi)"
   ]
  },
  {
   "cell_type": "markdown",
   "metadata": {},
   "source": [
    "##### 3.2.5 그룹별 통계량 계산하기\n",
    "- 데이터 그룹화:pandas의 groupby함수"
   ]
  },
  {
   "cell_type": "code",
   "execution_count": 34,
   "metadata": {},
   "outputs": [
    {
     "name": "stdout",
     "output_type": "stream",
     "text": [
      "         length\n",
      "species        \n",
      "A             3\n",
      "B             8\n"
     ]
    }
   ],
   "source": [
    "group=fish_multi.groupby(\"species\")\n",
    "print(group.mean()) #그룹별 평균을 계산"
   ]
  },
  {
   "cell_type": "code",
   "execution_count": 35,
   "metadata": {},
   "outputs": [
    {
     "name": "stdout",
     "output_type": "stream",
     "text": [
      "         length\n",
      "species        \n",
      "A           1.0\n",
      "B           2.0\n"
     ]
    }
   ],
   "source": [
    "print(group.std(ddof=1)) #그룹의 표준편차"
   ]
  },
  {
   "cell_type": "code",
   "execution_count": 36,
   "metadata": {},
   "outputs": [
    {
     "data": {
      "text/html": [
       "<div>\n",
       "<style scoped>\n",
       "    .dataframe tbody tr th:only-of-type {\n",
       "        vertical-align: middle;\n",
       "    }\n",
       "\n",
       "    .dataframe tbody tr th {\n",
       "        vertical-align: top;\n",
       "    }\n",
       "\n",
       "    .dataframe thead tr th {\n",
       "        text-align: left;\n",
       "    }\n",
       "\n",
       "    .dataframe thead tr:last-of-type th {\n",
       "        text-align: right;\n",
       "    }\n",
       "</style>\n",
       "<table border=\"1\" class=\"dataframe\">\n",
       "  <thead>\n",
       "    <tr>\n",
       "      <th></th>\n",
       "      <th colspan=\"8\" halign=\"left\">length</th>\n",
       "    </tr>\n",
       "    <tr>\n",
       "      <th></th>\n",
       "      <th>count</th>\n",
       "      <th>mean</th>\n",
       "      <th>std</th>\n",
       "      <th>min</th>\n",
       "      <th>25%</th>\n",
       "      <th>50%</th>\n",
       "      <th>75%</th>\n",
       "      <th>max</th>\n",
       "    </tr>\n",
       "    <tr>\n",
       "      <th>species</th>\n",
       "      <th></th>\n",
       "      <th></th>\n",
       "      <th></th>\n",
       "      <th></th>\n",
       "      <th></th>\n",
       "      <th></th>\n",
       "      <th></th>\n",
       "      <th></th>\n",
       "    </tr>\n",
       "  </thead>\n",
       "  <tbody>\n",
       "    <tr>\n",
       "      <th>A</th>\n",
       "      <td>3.0</td>\n",
       "      <td>3.0</td>\n",
       "      <td>1.0</td>\n",
       "      <td>2.0</td>\n",
       "      <td>2.5</td>\n",
       "      <td>3.0</td>\n",
       "      <td>3.5</td>\n",
       "      <td>4.0</td>\n",
       "    </tr>\n",
       "    <tr>\n",
       "      <th>B</th>\n",
       "      <td>3.0</td>\n",
       "      <td>8.0</td>\n",
       "      <td>2.0</td>\n",
       "      <td>6.0</td>\n",
       "      <td>7.0</td>\n",
       "      <td>8.0</td>\n",
       "      <td>9.0</td>\n",
       "      <td>10.0</td>\n",
       "    </tr>\n",
       "  </tbody>\n",
       "</table>\n",
       "</div>"
      ],
      "text/plain": [
       "        length                                    \n",
       "         count mean  std  min  25%  50%  75%   max\n",
       "species                                           \n",
       "A          3.0  3.0  1.0  2.0  2.5  3.0  3.5   4.0\n",
       "B          3.0  8.0  2.0  6.0  7.0  8.0  9.0  10.0"
      ]
     },
     "execution_count": 36,
     "metadata": {},
     "output_type": "execute_result"
    }
   ],
   "source": [
    "group.describe() #평균이나 표준편차를 백분위 값으로 정리해서 출력"
   ]
  },
  {
   "cell_type": "markdown",
   "metadata": {},
   "source": [
    "##### 3.2.6 교차분석표 구현하기\n",
    "- 깔끔한 데이터를 교차분석표로 변환"
   ]
  },
  {
   "cell_type": "code",
   "execution_count": 37,
   "metadata": {},
   "outputs": [
    {
     "name": "stdout",
     "output_type": "stream",
     "text": [
      "   store color  sales\n",
      "0  tokyo  blue     10\n",
      "1  tokyo   red     15\n",
      "2  osaka  blue     13\n",
      "3  osaka   red      9\n"
     ]
    }
   ],
   "source": [
    "shoes=pd.read_csv(\"3-2-2-shoes.csv\")\n",
    "print(shoes) #구두의 판매데이터 불러오기"
   ]
  },
  {
   "cell_type": "markdown",
   "metadata": {},
   "source": [
    "- pandas의 pivot_table 함수 : 여러 가지 형태의 데이터 모음 확인"
   ]
  },
  {
   "cell_type": "code",
   "execution_count": 38,
   "metadata": {},
   "outputs": [
    {
     "name": "stdout",
     "output_type": "stream",
     "text": [
      "color  blue  red\n",
      "store           \n",
      "osaka    13    9\n",
      "tokyo    10   15\n"
     ]
    }
   ],
   "source": [
    "cross = pd.pivot_table(\n",
    "    data = shoes, #데이터 지정\n",
    "    values = \"sales\", #데이터를 모을 열 지정\n",
    "    aggfunc = \"sum\", #데이터를 모을 함수 지정\n",
    "    index = \"store\", #교차분석표의 행 지정\n",
    "    columns = \"color\", #교차분석표의 열 지정\n",
    ")\n",
    "print(cross)"
   ]
  },
  {
   "attachments": {
    "ed9c3373-302f-44f5-961f-a2e2f2349717.png": {
     "image/png": "[encoded data removed]"
    }
   },
   "cell_type": "markdown",
   "metadata": {},
   "source": [
    "##### 3.2.7 공분산\n",
    "- 공분산:2개의 연속형 변수의 관계성을 확인하는 통계량\n",
    "- Cov(x,y)   \n",
    "![image.png](attachment:ed9c3373-302f-44f5-961f-a2e2f2349717.png)\n",
    "\n",
    "- 공분산의 조건들\n",
    " > 1. 공분산이 0보다 클 때:변수 한 쪽이 큰 값을 갖게 되면 다른 한 쪽도 커진다\n",
    " > 2. 공분산이 0보다 작을 때:변수 한 쪽이 큰 값을 갖게 되면 다른 한 쪽은 작아진다\n",
    " > 3. 공분산이 0일 때:변수 사이에 관계성이 없다\n",
    "- ex.공분산의 결과가 0보다 큰 값일 때\n",
    " >변수 x가 평균보다 큰 값일 때 다른 변수 y도 평균보다 큰 값을 갖는다\n",
    "- ex.공분산의 결과가 0보다 작은 값일 때\n",
    " >변수 x가 평균보다 큰 값일 때 다른 변수 y는 평균보다 작은 값을 갖는다"
   ]
  },
  {
   "attachments": {
    "949443cd-b333-4055-b628-ab4aae23e581.png": {
     "image/png": "[encoded data removed]"
    }
   },
   "cell_type": "markdown",
   "metadata": {},
   "source": [
    "##### 3.2.8 분산-공분산 행렬\n",
    "![image.png](attachment:949443cd-b333-4055-b628-ab4aae23e581.png)"
   ]
  },
  {
   "cell_type": "markdown",
   "metadata": {},
   "source": [
    "##### 3.2.9 공분산(실습)"
   ]
  },
  {
   "cell_type": "code",
   "execution_count": 39,
   "metadata": {},
   "outputs": [
    {
     "name": "stdout",
     "output_type": "stream",
     "text": [
      "      x   y\n",
      "0  18.5  34\n",
      "1  18.7  39\n",
      "2  19.1  41\n",
      "3  19.7  38\n",
      "4  21.5  45\n",
      "5  21.7  41\n",
      "6  21.8  52\n",
      "7  22.0  44\n",
      "8  23.4  44\n",
      "9  23.8  49\n"
     ]
    }
   ],
   "source": [
    "cov_data = pd.read_csv(\"3-2-3-cov.csv\")\n",
    "print(cov_data)"
   ]
  },
  {
   "cell_type": "code",
   "execution_count": 40,
   "metadata": {},
   "outputs": [],
   "source": [
    "#데이터 분리\n",
    "x = cov_data[\"x\"]\n",
    "y = cov_data[\"y\"]\n",
    "#표본 크기\n",
    "N = len(cov_data)\n",
    "#평균값 계산\n",
    "mu_x = np.mean(x)\n",
    "mu_y = np.mean(y)"
   ]
  },
  {
   "cell_type": "code",
   "execution_count": 41,
   "metadata": {},
   "outputs": [
    {
     "data": {
      "text/plain": [
       "7.673333333333336"
      ]
     },
     "execution_count": 41,
     "metadata": {},
     "output_type": "execute_result"
    }
   ],
   "source": [
    "#공분산 계산\n",
    "cov = sum((x-mu_x)*(y-mu_y)) / (N-1)\n",
    "cov"
   ]
  },
  {
   "cell_type": "markdown",
   "metadata": {},
   "source": [
    "##### 3.2.10 분산-공분산 행렬(실습)"
   ]
  },
  {
   "cell_type": "code",
   "execution_count": 42,
   "metadata": {},
   "outputs": [
    {
     "data": {
      "text/plain": [
       "array([[ 3.64622222,  7.67333333],\n",
       "       [ 7.67333333, 28.01111111]])"
      ]
     },
     "execution_count": 42,
     "metadata": {},
     "output_type": "execute_result"
    }
   ],
   "source": [
    "np.cov(x,y,ddof=1)"
   ]
  },
  {
   "cell_type": "markdown",
   "metadata": {},
   "source": [
    "##### 3.2.11 피어슨 상관계수\n",
    "- 그림\n",
    "- 공분산을 최댓값1, 최솟값-1 사이가 되도록 표준화\n",
    "- 공분산은 편리하지만 최댓값이나 최솟값이 얼마가 될지 알 수 없으므로 보정"
   ]
  },
  {
   "cell_type": "markdown",
   "metadata": {},
   "source": [
    "##### 3.2.12 상관행렬\n",
    "- 상관행렬:여러 변수의 상관계수들을 행렬 형태로 정리"
   ]
  },
  {
   "cell_type": "markdown",
   "metadata": {},
   "source": [
    "##### 3.2.13 피어슨 상관계수(실습)"
   ]
  },
  {
   "cell_type": "code",
   "execution_count": 43,
   "metadata": {},
   "outputs": [
    {
     "data": {
      "text/plain": [
       "0.7592719041137088"
      ]
     },
     "execution_count": 43,
     "metadata": {},
     "output_type": "execute_result"
    }
   ],
   "source": [
    "#분산 계산\n",
    "sigma_2_x=np.var(x, ddof=1)\n",
    "sigma_2_y=np.var(y, ddof=1)\n",
    "#상관계수\n",
    "rho = cov / np.sqrt(sigma_2_x*sigma_2_y)\n",
    "rho"
   ]
  }
 ],
 "metadata": {
  "kernelspec": {
   "display_name": "Python 3",
   "language": "python",
   "name": "python3"
  },
  "language_info": {
   "codemirror_mode": {
    "name": "ipython",
    "version": 3
   },
   "file_extension": ".py",
   "mimetype": "text/x-python",
   "name": "python",
   "nbconvert_exporter": "python",
   "pygments_lexer": "ipython3",
   "version": "3.8.5"
  }
 },
 "nbformat": 4,
 "nbformat_minor": 4
}
