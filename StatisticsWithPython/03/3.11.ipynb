{
 "cells": [
  {
   "cell_type": "markdown",
   "metadata": {},
   "source": [
    "#### 3.11 검정 결과 해석"
   ]
  },
  {
   "cell_type": "markdown",
   "metadata": {},
   "source": [
    "##### 3.11.1 p값이 0.05 이하일 때의 결과 작성법\n",
    "- p 값이 0.05 이하일 때는 유의미한 차이가 있는 것\n",
    "- 'oo은 xx와 유의미한 차이가 있다' 고 기재"
   ]
  },
  {
   "cell_type": "markdown",
   "metadata": {},
   "source": [
    "##### 3.11.2 p값이 0.05보다 클 때의 결과 작성법\n",
    "- p값이 0.05보다 클 때는 귀무가설을 기가할 수 없음\n",
    "- 'oo은 xx와 유의미한 차이가 있다고 말할 수 없다'고 기재\n",
    "- 'oo은 xx와 같다'는 틀린 표현"
   ]
  },
  {
   "cell_type": "markdown",
   "metadata": {},
   "source": [
    "##### 3.11.3 가설검정을 할 때 자주 하는 실수\n",
    "1. p값이 작을 경우의 잘못된 해석\n",
    "- p값이 작더라도 차이가 크다고 말할 수 없다\n",
    "- p값만 보고 실험 결과를 해석하는 것은 위험.\n",
    "- 원래 데이터의 평균값을 확인하거나 상자그림이나 바이올린플롯등을 활용\n",
    "- 실제와 해석의 차이를 줄여야함\n",
    "2. p값이 0.05보다 클 경우의 잘못된 해석\n",
    "- p값이 0.05보다 크더라도 차이가 없다고 말할 수는 없다"
   ]
  },
  {
   "cell_type": "markdown",
   "metadata": {},
   "source": [
    "##### 3.11.4 제1종 오류와 제2종 오류\n",
    "- 제1종 오류:귀무가설이 올바르지만 실수하여 귀무가설을 기각\n",
    "- 제2종 오류:귀무가설이 틀렸는데 실수하여 귀무가설을 채택"
   ]
  },
  {
   "cell_type": "markdown",
   "metadata": {},
   "source": [
    "##### 3.11.5 검정의 비대칭성\n",
    "- 제1종 오류에 대해서는 확률을 컨트롤할 수 있지만, 제2종 오류에 대해서는 컨트롤할 수 없어서 발생"
   ]
  },
  {
   "cell_type": "markdown",
   "metadata": {},
   "source": [
    "##### 3.11.6 유의수준은 검정을 하기 전에 정해둔다\n",
    "- p값을 얻은 후 유의미한 차이를 얻지 못했다고 유의수준을 바꾸면 안됨"
   ]
  },
  {
   "cell_type": "markdown",
   "metadata": {},
   "source": [
    "##### 3.11.7 모델 선택\n",
    "- 통계 모델과 모델 선택이라는 틀을 배움으로써 검정의 비대칭 문제를 완화"
   ]
  },
  {
   "cell_type": "markdown",
   "metadata": {},
   "source": [
    "##### 3.11.8 통계적가설검정이 필요한가\n",
    "- 앞으로 어떻게 될지 모르겠지만 현재에는 통계적가설검정 없이 분석하는 것은 효율이 나쁨"
   ]
  },
  {
   "cell_type": "markdown",
   "metadata": {},
   "source": [
    "##### 3.11.9 가정이 올바른가\n",
    "- t검정에서는 모집단분포가 정규분포라고 가정"
   ]
  },
  {
   "cell_type": "code",
   "execution_count": null,
   "metadata": {},
   "outputs": [],
   "source": []
  }
 ],
 "metadata": {
  "kernelspec": {
   "display_name": "Python 3",
   "language": "python",
   "name": "python3"
  },
  "language_info": {
   "codemirror_mode": {
    "name": "ipython",
    "version": 3
   },
   "file_extension": ".py",
   "mimetype": "text/x-python",
   "name": "python",
   "nbconvert_exporter": "python",
   "pygments_lexer": "ipython3",
   "version": "3.8.5"
  }
 },
 "nbformat": 4,
 "nbformat_minor": 4
}
